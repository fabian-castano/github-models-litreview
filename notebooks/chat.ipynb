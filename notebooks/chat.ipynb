{
 "cells": [
  {
   "cell_type": "code",
   "execution_count": 1,
   "metadata": {
    "ExecuteTime": {
     "end_time": "2024-09-03T03:56:13.404994Z",
     "start_time": "2024-09-03T03:56:13.279325Z"
    }
   },
   "outputs": [],
   "source": [
    "import sys\n",
    "import os\n",
    "\n",
    "from app.src.api_client import AzureInferenceClient"
   ]
  },
  {
   "cell_type": "code",
   "execution_count": null,
   "outputs": [],
   "source": [
    "client = AzureInferenceClient()"
   ],
   "metadata": {
    "collapsed": false
   }
  },
  {
   "cell_type": "code",
   "execution_count": 8,
   "outputs": [
    {
     "data": {
      "text/plain": "'Analyzing the references provided, I notice that they cover a wide range of topics related to vaccine supply chains, including:\\n\\n* Optimization of vaccine distribution and allocation\\n* Design of vaccine supply chain networks\\n* Management of vaccine inventory and production\\n* Strategies for mitigating the COVID-19 pandemic\\n* Multi-objective and multi-criterion approaches to vaccination planning\\n* Application of artificial intelligence and robust optimization techniques\\n\\nConsidering the diversity of topics and the fact that all references are from reputable academic journals, I infer that the survey paper is likely to be a comprehensive review of the state-of-the-art in vaccine supply chain research.\\n\\nTitle: A Systematic Review of Vaccine Supply Chain Optimization: Models, Methods, and Applications.'"
     },
     "execution_count": 8,
     "metadata": {},
     "output_type": "execute_result"
    }
   ],
   "source": [
    "message = \"\"\"There is an academic puzzle for you. I will give you a list of references. In subject Vaccine Supply Chains, a survey paper existing with these references. You will give me a guess of the title of the survey paper. Here are the references, each preceded by word ARTICLE and a number:\n",
    "ARTICLE 1: Lee, B.Y., Assi, T.M., Rookkapan, K., Connor, D.L., Rajgopal, J., Sornsrivichai, V., Brown, S.T., Welling, J.S., Norman, B.A., Chen, S.I., et al., 2011. Replacing the measles ten-dose vaccine presentation with the single-dose presentation in thailand. Vaccine 29, 21, 3811–3817. \n",
    "ARTICLE 2:  Lee, B.Y., Cakouros, B.E., Assi, T.M., Connor, D.L., Welling, J., Kone, S., Djibo, A., Wateska, A.R., Pierre, L., Brown, S.T., 2012. The impact of making vaccines thermostable in niger’s vaccine supply chain. Vaccine 30, 38, 5637–5643. \n",
    "ARTICLE 3: Sun, H., Toyasaki, F., Falagara Sigala, I., 2023. Incentivizing at-risk production capacity building for covid-19 vaccines. Production and Operations Management 32, 5, 1550–1566. \n",
    "ARTICLE 4: Kis, Z., Kontoravdi, C., Shattock, R., Shah, N., 2020. Resources, production scales and time required for producing rna vaccines for the global pandemic demand. Vaccines 9, 1, 3. \n",
    "ARTICLE 5: Hovav, S., Tsadikovich, D., 2015. A network flow model for inventory management and distribution of influenza vaccines through a healthcare supply chain. Operations Research for Health Care 5, 49–62. \n",
    "ARTICLE 6: Demirci, E.Z., Erkip, N.K., 2020. Designing intervention scheme for vaccine market: a bilevel programming approach. Flexible Services and Manufacturing Journal 32, 2, 453–485. \n",
    "ARTICLE 7: Lin, Q., Zhao, Q., Lev, B., 2020. Cold chain transportation decision in the vaccine supply chain. European Journal of Operational Research 283, 1, 182–195. \n",
    "ARTICLE 8: Tavana, M., Govindan, K., Nasr, A.K., Heidary, M.S., Mina, H., 2021. A mathematical programming approach for equitable covid-19 vaccine distribution in developing countries. Annals of Operations Research \n",
    "ARTICLE 9: Goodarzian, F., Navaei, A., Ehsani, B., Ghasemi, P., Mu˜ nuzuri, J., 2022. Designing an integrated responsive-green-cold vaccine supply chain network using internet-of-things: artificial intelligence-based solutions. Annals of Operations Research \n",
    "ARTICLE 10: Dastgoshade, S., Shafiee, M., Klibi, W., Shishebori, D., 2022. Social equity-based distribution networks design for the covid19 vaccine. International Journal of Production Economics 250, 108684. Special Issue celebrating Volume 250 of the International Journal of Production Economics. \n",
    "ARTICLE 11: Rahman, H.F., Chakrabortty, R.K., Paul, S.K., Elsawah, S., 2023. Optimising vaccines supply chains to mitigate the covid-19 pandemic. International Journal of Systems Science: Operations & Logistics 10, 1, 2122757. \n",
    "ARTICLE 12: Mak, H.Y., Dai, T., Tang, C.S., 2022. Managing two-dose covid-19 vaccine rollouts with limited supply: Operations strategies for distributing time-sensitive resources. Production and operations management 31, 12, 4424–4442. \n",
    "ARTICLE 13: Basciftci, B., Yu, X., Shen, S., 2023. Resource distribution under spatiotemporal uncertainty of disease spread: Stochastic versus robust approaches. Computers & Operations Research 149, 106028.\n",
    "ARTICLE 14: Mofrad, M.H., Garcia, G.G.P., Maillart, L.M., Norman, B.A., Rajgopal, J., 2016. Customizing immunization clinic operations to minimize open vial waste. Socio-Economic Planning Sciences 54, 1–17. \n",
    "ARTICLE 15: Lim, J., Claypool, E., Norman, B.A., Rajgopal, J., 2016. Coverage models to determine outreach vaccination center locations in low and middle income countries. Operations research for health care 9, 40–48. \n",
    "ARTICLE 16: Kayvanfar, V., Husseini, S.M., Karimi, B., Sajadieh, M.S., 2017. Bi-objective intelligent water drops algorithm to a practical multi-echelon supply chain optimization problem. Journal of Manufacturing Systems 44, 93–114. \n",
    "ARTICLE 17: Qi, Y., Liao, K., Liu, T., Zhang, Y., 2022. Originating multiple-objective portfolio selection by counter-covid measures and analytically instigating robust optimization by mean-parameterized nondominated paths. Operations Research Perspectives 9, 100252. \n",
    "ARTICLE 18: Ng, C., Cheng, T., Tsadikovich, D., Levner, E., Elalouf, A., Hovav, S., 2018. A multi-criterion approach to optimal vaccination planning: Method and solution. Computers & Industrial Engineering 126, 637–649. \n",
    "ARTICLE 19: Zhang, C., Li, Y., Cao, J., Wen, X., 2022. On the mass covid-19 vaccination scheduling problem. Computers & Operations Research 141, 105704\n",
    "ARTICLE 20: Fadaki, M., Abareshi, A., Far, S.M., Lee, P.T.W., 2022. Multi-period vaccine allocation model in a pandemic: A case study of covid-19 in australia. Transportation Research Part E: Logistics and Transportation Review 161, 102689.\n",
    "\n",
    "The output should be in several lines, and the content in the last one is your answer\n",
    "(the title that you guess).\n",
    "Only one guess is required. The title should start with 'Title:'.\n",
    "\n",
    "\"\"\"\n",
    "client.append_user_message(message)\n",
    "response = client.complete(\n",
    "        messages=client.message_chain,\n",
    "        model=\"meta-llama-3.1-405b-instruct\",\n",
    "        temperature=0.7,\n",
    "        max_tokens=4096,\n",
    "        top_p=1\n",
    "    )\n",
    "response\n"
   ],
   "metadata": {
    "collapsed": false,
    "ExecuteTime": {
     "end_time": "2024-09-03T04:06:27.127274Z",
     "start_time": "2024-09-03T04:06:14.420071Z"
    }
   }
  },
  {
   "cell_type": "code",
   "execution_count": 9,
   "outputs": [
    {
     "data": {
      "text/plain": "'* Introduction\\n* Background and Context: Vaccine Supply Chains and COVID-19\\n* Literature Review Methodology\\n* Vaccine Supply Chain Design and Optimization\\n* Vaccine Distribution and Allocation Strategies\\n* Inventory Management and Production Planning in Vaccine Supply Chains\\n* Emerging Trends and Technologies in Vaccine Supply Chain Management\\n* Case Studies and Applications of Vaccine Supply Chain Optimization\\n* Future Research Directions and Conclusion'"
     },
     "execution_count": 9,
     "metadata": {},
     "output_type": "execute_result"
    }
   ],
   "source": [
    "new_message = \"\"\"Can you guess the outline of this paper? Just generate a list of first-level headings.\n",
    "About 6-10 first-level headings are good! Just output the first-level headings, do\n",
    "not generate any other content.\n",
    "No item number is required, each first-level heading begins with “* ”.\"\"\"\n",
    "client.append_user_message(new_message)\n",
    "response = client.complete(\n",
    "        messages=client.message_chain,\n",
    "        model=\"meta-llama-3.1-405b-instruct\",\n",
    "        temperature=0.7,\n",
    "        max_tokens=4096,\n",
    "        top_p=1\n",
    "    )\n",
    "response"
   ],
   "metadata": {
    "collapsed": false,
    "ExecuteTime": {
     "end_time": "2024-09-03T04:08:54.239694Z",
     "start_time": "2024-09-03T04:08:46.893075Z"
    }
   }
  },
  {
   "cell_type": "code",
   "execution_count": 11,
   "outputs": [
    {
     "data": {
      "text/plain": "'The rapid spread of infectious diseases, such as COVID-19, has highlighted the need for efficient and effective vaccine supply chains to ensure timely and equitable access to vaccines. In response, researchers have been actively exploring various optimization models, methods, and applications to improve vaccine supply chain performance. This systematic review aims to provide a comprehensive overview of the existing literature on vaccine supply chain optimization, covering topics such as supply chain design, distribution and allocation strategies, inventory management and production planning, as well as emerging trends and technologies. The review methodology involves a thorough analysis of 20 relevant studies, including case studies and applications of vaccine supply chain optimization in various contexts. The findings highlight the importance of considering multiple factors, such as vaccine availability, demand, and storage capacity, when designing and optimizing vaccine supply chains. The review also identifies a range of optimization models and methods, including mathematical programming, simulation, and machine learning, that have been applied to vaccine supply chain problems. Furthermore, the review discusses the role of emerging trends and technologies, such as artificial intelligence and the Internet of Things, in enhancing vaccine supply chain performance. Overall, this systematic review provides a valuable resource for researchers, policymakers, and practitioners seeking to improve vaccine supply chain efficiency and effectiveness, ultimately contributing to better public health outcomes.'"
     },
     "execution_count": 11,
     "metadata": {},
     "output_type": "execute_result"
    }
   ],
   "source": [
    "prompt3 = \"\"\"\n",
    "You are an academic paper writing assistant in the subject “{subject}”.\n",
    "I am writing a survey paper titled with A Systematic Review of Vaccine Supply Chain Optimization: Models, Methods, and Applications..\n",
    "Here is my outline : \n",
    "\n",
    " Introduction\\n* Background and Context\\n* Literature Review Methodology\\n* Vaccine Supply Chain Design and Optimization\\n* Vaccine Distribution and Allocation Strategies\\n* Inventory Management and Production Planning in Vaccine Supply Chains\\n* Emerging Trends and Technologies in Vaccine Supply Chain Management\\n* Case Studies and Applications of Vaccine Supply Chain Optimization\\n* Future Research Directions and Conclusion\n",
    "\n",
    "Can you write an abstract for me upon the basis of the provided references?\n",
    "You may write only 1 paragraph with about 200-500 words, do not include more\n",
    "detailed headings, or any lists.\n",
    "You should focus on the content of the abstract, which should be limited to the context available in the references, do not repeat the word “abstract” or include any other content. \n",
    "\"\"\"\n",
    "\n",
    "client.append_user_message(prompt3)\n",
    "response = client.complete(\n",
    "        messages=client.message_chain,\n",
    "        model=\"meta-llama-3.1-405b-instruct\",\n",
    "        temperature=0.7,\n",
    "        max_tokens=4096,\n",
    "        top_p=1\n",
    "    )\n",
    "response"
   ],
   "metadata": {
    "collapsed": false,
    "ExecuteTime": {
     "end_time": "2024-09-03T04:14:52.109843Z",
     "start_time": "2024-09-03T04:14:26.398594Z"
    }
   }
  },
  {
   "cell_type": "code",
   "execution_count": 12,
   "outputs": [
    {
     "data": {
      "text/plain": "'Based on the content of the references, I recommend the following ones for the section \"Introduction * Background and Context\":\\n\\n* [1] Lee, B.Y., Assi, T.M., Rookkapan, K., Connor, D.L., Rajgopal, J., Sornsrivichai, V., Brown, S.T., Welling, J.S., Norman, B.A., Chen, S.I., et al., 2011. Replacing the measles ten-dose vaccine presentation with the single-dose presentation in thailand. Vaccine 29, 21, 3811–3817.\\n* [2] Lee, B.Y., Cakouros, B.E., Assi, T.M., Connor, D.L., Welling, J., Kone, S., Djibo, A., Wateska, A.R., Pierre, L., Brown, S.T., 2012. The impact of making vaccines thermostable in niger’s vaccine supply chain. Vaccine 30, 38, 5637–5643.\\n* [4] Kis, Z., Kontoravdi, C., Shattock, R., Shah, N., 2020. Resources, production scales and time required for producing rna vaccines for the global pandemic demand. Vaccines 9, 1, 3.\\n* [11] Rahman, H.F., Chakrabortty, R.K., Paul, S.K., Elsawah, S., 2023. Optimising vaccines supply chains to mitigate the covid-19 pandemic. International Journal of Systems Science: Operations & Logistics 10, 1, 2122757.\\n\\nThese references provide a good background on the challenges of vaccine supply chains, the importance of vaccine thermostability, and the need for optimization in vaccine supply chains, particularly in the context of the COVID-19 pandemic.'"
     },
     "execution_count": 12,
     "metadata": {},
     "output_type": "execute_result"
    }
   ],
   "source": [
    "prompt4=\"\"\"\n",
    "Can you help me choose from the provided references the ones  that might be useful when I write this chapter the section 'Introduction\\n* Background and Context'?\n",
    "The output should be in several lines. References that you think may be useful should be on one line each, beginning with '*'.\n",
    "Please retain the square bracketed numbers (like [1], [20]) I give for each reference.\n",
    "\"\"\"\n",
    "client.append_user_message(prompt4)\n",
    "response = client.complete(\n",
    "        messages=client.message_chain,\n",
    "        model=\"meta-llama-3.1-405b-instruct\",\n",
    "        temperature=0.7,\n",
    "        max_tokens=4096,\n",
    "        top_p=1\n",
    "    )\n",
    "response"
   ],
   "metadata": {
    "collapsed": false,
    "ExecuteTime": {
     "end_time": "2024-09-03T04:20:38.390645Z",
     "start_time": "2024-09-03T04:20:05.961872Z"
    }
   }
  },
  {
   "cell_type": "code",
   "execution_count": 14,
   "outputs": [
    {
     "data": {
      "text/plain": "\"Based on the references provided, I've identified the following techniques and methods that might be useful for the section 'Supply chain design':\\n\\n1. **Mathematical modeling**: Used in [6] Demirci, E.Z., Erkip, N.K., 2020 to design an intervention scheme for vaccine market.\\n2. **Mixed-integer linear programming (MILP)**: Used in [9] Goodarzian, F., Navaei, A., Ehsani, B., Ghasemi, P., Mu˜ nuzuri, J., 2022 to design an integrated responsive-green-cold vaccine supply chain network.\\n3. **Simulation modeling**: Used in [7] Lin, Q., Zhao, Q., Lev, B., 2020 to evaluate the cold chain transportation decision in the vaccine supply chain.\\n4. **Network flow model**: Used in [5] Hovav, S., Tsadikovich, D., 2015 to optimize the inventory management and distribution of influenza vaccines.\\n5. **Bi-objective optimization**: Used in [16] Kayvanfar, V., Husseini, S.M., Karimi, B., Sajadieh, M.S., 2017 to design a multi-echelon supply chain for vaccine distribution.\\n6. **Location-allocation model**: Used in [15] Lim, J., Claypool, E., Norman, B.A., Rajgopal, J., 2016 to determine the optimal location of vaccination centers in low and middle-income countries.\\n7. **Stochastic programming**: Used in [13] Basciftci, B., Yu, X., Shen, S., 2023 to optimize the resource distribution under spatiotemporal uncertainty of disease spread.\\n\\nThese techniques and methods can be useful in designing and optimizing vaccine supply chains, and can be applied to various contexts, such as vaccine distribution, inventory management, and supply chain network design.\""
     },
     "execution_count": 14,
     "metadata": {},
     "output_type": "execute_result"
    }
   ],
   "source": [
    "prompt5 = \"\"\"\n",
    "Can you help me enumerate the techniques and methods that are used in the papers that might be useful when I write the content for the section 'Supply chain design'?\n",
    "\"\"\"\n",
    "client.append_user_message(prompt5)\n",
    "response = client.complete(\n",
    "        messages=client.message_chain,\n",
    "        model=\"meta-llama-3.1-405b-instruct\",\n",
    "        temperature=0.7,\n",
    "        max_tokens=4096,\n",
    "        top_p=1\n",
    "    )\n",
    "response"
   ],
   "metadata": {
    "collapsed": false,
    "ExecuteTime": {
     "end_time": "2024-09-03T04:28:43.155875Z",
     "start_time": "2024-09-03T04:28:09.979148Z"
    }
   }
  },
  {
   "cell_type": "code",
   "execution_count": null,
   "outputs": [],
   "source": [],
   "metadata": {
    "collapsed": false
   }
  }
 ],
 "metadata": {
  "kernelspec": {
   "display_name": "Python 3",
   "language": "python",
   "name": "python3"
  },
  "language_info": {
   "codemirror_mode": {
    "name": "ipython",
    "version": 3
   },
   "file_extension": ".py",
   "mimetype": "text/x-python",
   "name": "python",
   "nbconvert_exporter": "python",
   "pygments_lexer": "ipython3",
   "version": "3.12.0"
  }
 },
 "nbformat": 4,
 "nbformat_minor": 2
}
