{
 "cells": [
  {
   "cell_type": "code",
   "execution_count": 1,
   "metadata": {
    "ExecuteTime": {
     "end_time": "2024-09-03T11:48:44.287854Z",
     "start_time": "2024-09-03T11:48:44.149806Z"
    }
   },
   "outputs": [],
   "source": [
    "\n",
    "from app.src.api_client import AzureInferenceClient"
   ]
  },
  {
   "cell_type": "code",
   "execution_count": 2,
   "outputs": [
    {
     "name": "stdout",
     "output_type": "stream",
     "text": [
      "AzureInferenceClient initialized\n"
     ]
    }
   ],
   "source": [
    "client = AzureInferenceClient()"
   ],
   "metadata": {
    "collapsed": false,
    "ExecuteTime": {
     "end_time": "2024-09-03T11:48:44.444324Z",
     "start_time": "2024-09-03T11:48:44.293750Z"
    }
   }
  },
  {
   "cell_type": "code",
   "execution_count": 3,
   "outputs": [
    {
     "data": {
      "text/plain": "'Based on the references provided, I notice that they all relate to the topic of vaccine supply chains, with a focus on optimization, distribution, and logistics. Many of the articles also specifically address the COVID-19 pandemic.\\n\\nI see a range of methodologies and approaches being used, including mathematical modeling, simulation, and machine learning. Some articles focus on specific aspects of vaccine supply chains, such as cold chain management, inventory control, and transportation.\\n\\nGiven the diversity of topics and approaches, I\\'m going to take a guess that the survey paper is a comprehensive review of the literature on vaccine supply chains, covering various aspects of the field.\\n\\nTitle: \"Vaccine Supply Chain Optimization: A Comprehensive Review of Models, Methods, and Applications\"'"
     },
     "execution_count": 3,
     "metadata": {},
     "output_type": "execute_result"
    }
   ],
   "source": [
    "message = \"\"\"There is an academic puzzle for you. I will give you a list of references. In subject Vaccine Supply Chains, a survey paper existing with these references. You will give me a guess of the title of the survey paper. Here are the references, each preceded by word ARTICLE and a number:\n",
    "ARTICLE 1: Lee, B.Y., Assi, T.M., Rookkapan, K., Connor, D.L., Rajgopal, J., Sornsrivichai, V., Brown, S.T., Welling, J.S., Norman, B.A., Chen, S.I., et al., 2011. Replacing the measles ten-dose vaccine presentation with the single-dose presentation in thailand. Vaccine 29, 21, 3811–3817. \n",
    "ARTICLE 2:  Lee, B.Y., Cakouros, B.E., Assi, T.M., Connor, D.L., Welling, J., Kone, S., Djibo, A., Wateska, A.R., Pierre, L., Brown, S.T., 2012. The impact of making vaccines thermostable in niger’s vaccine supply chain. Vaccine 30, 38, 5637–5643. \n",
    "ARTICLE 3: Sun, H., Toyasaki, F., Falagara Sigala, I., 2023. Incentivizing at-risk production capacity building for covid-19 vaccines. Production and Operations Management 32, 5, 1550–1566. \n",
    "ARTICLE 4: Kis, Z., Kontoravdi, C., Shattock, R., Shah, N., 2020. Resources, production scales and time required for producing rna vaccines for the global pandemic demand. Vaccines 9, 1, 3. \n",
    "ARTICLE 5: Hovav, S., Tsadikovich, D., 2015. A network flow model for inventory management and distribution of influenza vaccines through a healthcare supply chain. Operations Research for Health Care 5, 49–62. \n",
    "ARTICLE 6: Demirci, E.Z., Erkip, N.K., 2020. Designing intervention scheme for vaccine market: a bilevel programming approach. Flexible Services and Manufacturing Journal 32, 2, 453–485. \n",
    "ARTICLE 7: Lin, Q., Zhao, Q., Lev, B., 2020. Cold chain transportation decision in the vaccine supply chain. European Journal of Operational Research 283, 1, 182–195. \n",
    "ARTICLE 8: Tavana, M., Govindan, K., Nasr, A.K., Heidary, M.S., Mina, H., 2021. A mathematical programming approach for equitable covid-19 vaccine distribution in developing countries. Annals of Operations Research \n",
    "ARTICLE 9: Goodarzian, F., Navaei, A., Ehsani, B., Ghasemi, P., Mu˜ nuzuri, J., 2022. Designing an integrated responsive-green-cold vaccine supply chain network using internet-of-things: artificial intelligence-based solutions. Annals of Operations Research \n",
    "ARTICLE 10: Dastgoshade, S., Shafiee, M., Klibi, W., Shishebori, D., 2022. Social equity-based distribution networks design for the covid19 vaccine. International Journal of Production Economics 250, 108684. Special Issue celebrating Volume 250 of the International Journal of Production Economics. \n",
    "ARTICLE 11: Rahman, H.F., Chakrabortty, R.K., Paul, S.K., Elsawah, S., 2023. Optimising vaccines supply chains to mitigate the covid-19 pandemic. International Journal of Systems Science: Operations & Logistics 10, 1, 2122757. \n",
    "ARTICLE 12: Mak, H.Y., Dai, T., Tang, C.S., 2022. Managing two-dose covid-19 vaccine rollouts with limited supply: Operations strategies for distributing time-sensitive resources. Production and operations management 31, 12, 4424–4442. \n",
    "ARTICLE 13: Basciftci, B., Yu, X., Shen, S., 2023. Resource distribution under spatiotemporal uncertainty of disease spread: Stochastic versus robust approaches. Computers & Operations Research 149, 106028.\n",
    "ARTICLE 14: Mofrad, M.H., Garcia, G.G.P., Maillart, L.M., Norman, B.A., Rajgopal, J., 2016. Customizing immunization clinic operations to minimize open vial waste. Socio-Economic Planning Sciences 54, 1–17. \n",
    "ARTICLE 15: Lim, J., Claypool, E., Norman, B.A., Rajgopal, J., 2016. Coverage models to determine outreach vaccination center locations in low and middle income countries. Operations research for health care 9, 40–48. \n",
    "ARTICLE 16: Kayvanfar, V., Husseini, S.M., Karimi, B., Sajadieh, M.S., 2017. Bi-objective intelligent water drops algorithm to a practical multi-echelon supply chain optimization problem. Journal of Manufacturing Systems 44, 93–114. \n",
    "ARTICLE 17: Qi, Y., Liao, K., Liu, T., Zhang, Y., 2022. Originating multiple-objective portfolio selection by counter-covid measures and analytically instigating robust optimization by mean-parameterized nondominated paths. Operations Research Perspectives 9, 100252. \n",
    "ARTICLE 18: Ng, C., Cheng, T., Tsadikovich, D., Levner, E., Elalouf, A., Hovav, S., 2018. A multi-criterion approach to optimal vaccination planning: Method and solution. Computers & Industrial Engineering 126, 637–649. \n",
    "ARTICLE 19: Zhang, C., Li, Y., Cao, J., Wen, X., 2022. On the mass covid-19 vaccination scheduling problem. Computers & Operations Research 141, 105704\n",
    "ARTICLE 20: Fadaki, M., Abareshi, A., Far, S.M., Lee, P.T.W., 2022. Multi-period vaccine allocation model in a pandemic: A case study of covid-19 in australia. Transportation Research Part E: Logistics and Transportation Review 161, 102689.\n",
    "\n",
    "The output should be in several lines, and the content in the last one is your answer\n",
    "(the title that you guess).\n",
    "Only one guess is required. The title should start with 'Title:'.\n",
    "\n",
    "\"\"\"\n",
    "client.append_user_message(message)\n",
    "response = client.complete(\n",
    "        messages=client.message_chain,\n",
    "        model=\"meta-llama-3.1-405b-instruct\",\n",
    "        temperature=0.7,\n",
    "        max_tokens=4096,\n",
    "        top_p=1\n",
    "    )\n",
    "response\n"
   ],
   "metadata": {
    "collapsed": false,
    "ExecuteTime": {
     "end_time": "2024-09-03T11:48:59.245644Z",
     "start_time": "2024-09-03T11:48:44.450785Z"
    }
   }
  },
  {
   "cell_type": "code",
   "execution_count": 4,
   "outputs": [
    {
     "data": {
      "text/plain": "'* Introduction\\n* Vaccine Supply Chain Overview\\n* Optimization Models for Vaccine Distribution\\n* Cold Chain Management and Logistics\\n* Inventory Control and Management\\n* Transportation and Routing Optimization\\n* Case Studies and Applications\\n* Challenges and Future Directions\\n* Conclusion'"
     },
     "execution_count": 4,
     "metadata": {},
     "output_type": "execute_result"
    }
   ],
   "source": [
    "new_message = \"\"\"Can you guess the outline of this paper? Just generate a list of first-level headings.\n",
    "About 6-10 first-level headings are good! Just output the first-level headings, do\n",
    "not generate any other content.\n",
    "No item number is required, each first-level heading begins with “* ”.\"\"\"\n",
    "client.append_user_message(new_message)\n",
    "response = client.complete(\n",
    "        messages=client.message_chain,\n",
    "        model=\"meta-llama-3.1-405b-instruct\",\n",
    "        temperature=0.7,\n",
    "        max_tokens=4096,\n",
    "        top_p=1\n",
    "    )\n",
    "response"
   ],
   "metadata": {
    "collapsed": false,
    "ExecuteTime": {
     "end_time": "2024-09-03T11:49:03.962642Z",
     "start_time": "2024-09-03T11:48:59.242349Z"
    }
   }
  },
  {
   "cell_type": "code",
   "execution_count": 5,
   "outputs": [
    {
     "data": {
      "text/plain": "'Vaccine supply chain optimization is a critical component of ensuring the timely and equitable distribution of vaccines, particularly in the context of pandemics such as COVID-19. As the global vaccine market continues to grow, the complexity of vaccine supply chains has increased, necessitating the development of sophisticated optimization models and methods to ensure efficient and effective vaccine distribution. This systematic review provides a comprehensive overview of the current state of vaccine supply chain optimization, including vaccine distribution and allocation strategies, inventory management and production planning, and emerging trends and technologies in vaccine supply chain management. The review highlights the application of various optimization models and methods, including mathematical programming, simulation, and machine learning, to address the unique challenges of vaccine supply chains, such as cold chain management, transportation, and inventory control. The review also examines case studies and applications of vaccine supply chain optimization in various contexts, including low- and middle-income countries, and identifies future research directions in this field. By synthesizing the existing literature on vaccine supply chain optimization, this review aims to provide a foundation for the development of more effective and efficient vaccine supply chain systems, ultimately contributing to improved vaccine access and health outcomes globally.'"
     },
     "execution_count": 5,
     "metadata": {},
     "output_type": "execute_result"
    }
   ],
   "source": [
    "prompt3 = \"\"\"\n",
    "You are an academic paper writing assistant in the subject “{subject}”.\n",
    "I am writing a survey paper titled with A Systematic Review of Vaccine Supply Chain Optimization: Models, Methods, and Applications..\n",
    "Here is my outline : \n",
    "\n",
    " Introduction\\n* Background and Context\\n* Literature Review Methodology\\n* Vaccine Supply Chain Design and Optimization\\n* Vaccine Distribution and Allocation Strategies\\n* Inventory Management and Production Planning in Vaccine Supply Chains\\n* Emerging Trends and Technologies in Vaccine Supply Chain Management\\n* Case Studies and Applications of Vaccine Supply Chain Optimization\\n* Future Research Directions and Conclusion\n",
    "\n",
    "Can you write an abstract for me upon the basis of the provided references?\n",
    "You may write only 1 paragraph with about 200-500 words, do not include more\n",
    "detailed headings, or any lists.\n",
    "You should focus on the content of the abstract, which should be limited to the context available in the references, do not repeat the word “abstract” or include any other content. \n",
    "\"\"\"\n",
    "\n",
    "client.append_user_message(prompt3)\n",
    "response = client.complete(\n",
    "        messages=client.message_chain,\n",
    "        model=\"meta-llama-3.1-405b-instruct\",\n",
    "        temperature=0.7,\n",
    "        max_tokens=4096,\n",
    "        top_p=1\n",
    "    )\n",
    "response"
   ],
   "metadata": {
    "collapsed": false,
    "ExecuteTime": {
     "end_time": "2024-09-03T11:49:21.791063Z",
     "start_time": "2024-09-03T11:49:03.969391Z"
    }
   }
  },
  {
   "cell_type": "code",
   "execution_count": 6,
   "outputs": [
    {
     "data": {
      "text/plain": "'Based on the provided references, I suggest the following ones might be useful for the section \"Introduction * Background and Context\":\\n\\n* Lee, B.Y., Assi, T.M., Rookkapan, K., Connor, D.L., Rajgopal, J., Sornsrivichai, V., Brown, S.T., Welling, J.S., Norman, B.A., Chen, S.I., et al., 2011. Replacing the measles ten-dose vaccine presentation with the single-dose presentation in thailand. Vaccine 29, 21, 3811–3817. [1]\\n* Kis, Z., Kontoravdi, C., Shattock, R., Shah, N., 2020. Resources, production scales and time required for producing rna vaccines for the global pandemic demand. Vaccines 9, 1, 3. [4]\\n* Tavana, M., Govindan, K., Nasr, A.K., Heidary, M.S., Mina, H., 2021. A mathematical programming approach for equitable covid-19 vaccine distribution in developing countries. Annals of Operations Research [8]\\n* Dastgoshade, S., Shafiee, M., Klibi, W., Shishebori, D., 2022. Social equity-based distribution networks design for the covid19 vaccine. International Journal of Production Economics 250, 108684. [10]\\n* Fadaki, M., Abareshi, A., Far, S.M., Lee, P.T.W., 2022. Multi-period vaccine allocation model in a pandemic: A case study of covid-19 in australia. Transportation Research Part E: Logistics and Transportation Review 161, 102689. [20]\\n\\nThese references provide background information on vaccine supply chains, the impact of COVID-19 on vaccine distribution, and the challenges of vaccine allocation and distribution in different contexts.'"
     },
     "execution_count": 6,
     "metadata": {},
     "output_type": "execute_result"
    }
   ],
   "source": [
    "prompt4=\"\"\"\n",
    "Can you help me choose from the provided references the ones  that might be useful when I write this chapter the section 'Introduction\\n* Background and Context'?\n",
    "The output should be in several lines. References that you think may be useful should be on one line each, beginning with '*'.\n",
    "Please retain the square bracketed numbers (like [1], [20]) I give for each reference.\n",
    "\"\"\"\n",
    "client.append_user_message(prompt4)\n",
    "response = client.complete(\n",
    "        messages=client.message_chain,\n",
    "        model=\"meta-llama-3.1-405b-instruct\",\n",
    "        temperature=0.7,\n",
    "        max_tokens=4096,\n",
    "        top_p=1\n",
    "    )\n",
    "response"
   ],
   "metadata": {
    "collapsed": false,
    "ExecuteTime": {
     "end_time": "2024-09-03T11:49:59.373495Z",
     "start_time": "2024-09-03T11:49:21.791267Z"
    }
   }
  },
  {
   "cell_type": "code",
   "execution_count": 7,
   "outputs": [
    {
     "data": {
      "text/plain": "\"Based on the provided references, I've extracted the techniques and methods related to supply chain design that might be useful for your section:\\n\\n1. **Mathematical Programming**:\\n\\t* Mixed-Integer Linear Programming (MILP) [8, 10]\\n\\t* Linear Programming (LP) [1]\\n2. **Optimization Models**:\\n\\t* Vaccine allocation models [4, 8, 10, 20]\\n\\t* Distribution network design models [10, 20]\\n\\t* Inventory management models [1, 4]\\n3. **Simulation Models**:\\n\\t* Discrete-Event Simulation (DES) [not explicitly mentioned, but might be relevant]\\n4. **Machine Learning**:\\n\\t* Not explicitly mentioned in the provided references, but might be relevant for supply chain design\\n5. **Heuristics and Metaheuristics**:\\n\\t* Not explicitly mentioned in the provided references, but might be relevant for supply chain design\\n6. **Network Analysis**:\\n\\t* Social Network Analysis (SNA) [not explicitly mentioned, but might be relevant]\\n\\t* Network optimization models [10, 20]\\n7. **Decision Analysis**:\\n\\t* Multi-Criteria Decision Analysis (MCDA) [not explicitly mentioned, but might be relevant]\\n\\t* Decision support systems [10, 20]\\n\\nThese techniques and methods are used to address various aspects of supply chain design, such as:\\n\\n* Vaccine allocation and distribution\\n* Inventory management\\n* Distribution network design\\n* Supply chain optimization\\n\\nPlease note that this is not an exhaustive list, and you may want to consider other techniques and methods relevant to supply chain design. Additionally, some references might be more relevant to specific sub-topics within supply chain design.\""
     },
     "execution_count": 7,
     "metadata": {},
     "output_type": "execute_result"
    }
   ],
   "source": [
    "prompt5 = \"\"\"\n",
    "Can you help me enumerate the techniques and methods that are used in the papers that might be useful when I write the content for the section 'Supply chain design'?\n",
    "\"\"\"\n",
    "client.append_user_message(prompt5)\n",
    "response = client.complete(\n",
    "        messages=client.message_chain,\n",
    "        model=\"meta-llama-3.1-405b-instruct\",\n",
    "        temperature=0.7,\n",
    "        max_tokens=4096,\n",
    "        top_p=1\n",
    "    )\n",
    "response"
   ],
   "metadata": {
    "collapsed": false,
    "ExecuteTime": {
     "end_time": "2024-09-03T11:50:27.022046Z",
     "start_time": "2024-09-03T11:49:59.379111Z"
    }
   }
  },
  {
   "cell_type": "code",
   "execution_count": 7,
   "outputs": [],
   "source": [],
   "metadata": {
    "collapsed": false,
    "ExecuteTime": {
     "end_time": "2024-09-03T11:50:27.029228Z",
     "start_time": "2024-09-03T11:50:27.020487Z"
    }
   }
  }
 ],
 "metadata": {
  "kernelspec": {
   "display_name": "Python 3",
   "language": "python",
   "name": "python3"
  },
  "language_info": {
   "codemirror_mode": {
    "name": "ipython",
    "version": 3
   },
   "file_extension": ".py",
   "mimetype": "text/x-python",
   "name": "python",
   "nbconvert_exporter": "python",
   "pygments_lexer": "ipython3",
   "version": "3.12.0"
  }
 },
 "nbformat": 4,
 "nbformat_minor": 2
}
