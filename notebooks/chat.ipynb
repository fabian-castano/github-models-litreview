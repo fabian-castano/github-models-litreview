{
 "cells": [
  {
   "cell_type": "code",
   "execution_count": 68,
   "metadata": {
    "ExecuteTime": {
     "end_time": "2024-09-10T03:54:12.471311Z",
     "start_time": "2024-09-10T03:54:12.455621Z"
    }
   },
   "outputs": [],
   "source": [
    "\n",
    "from app.src.api_client import AzureInferenceClient"
   ]
  },
  {
   "cell_type": "code",
   "execution_count": 69,
   "outputs": [],
   "source": [
    "# models list\n",
    "models = [ \n",
    "    \"meta-llama-3.1-405b-instruct\",\n",
    "    \"Meta-Llama-3-70B-Instruct\",\n",
    "    \"gpt-4o\",\n",
    "    \"ai21-jamba-1.5-large\",\n",
    "    \"Mistral-large-2407\"\n",
    "]\n",
    "    \n",
    "    "
   ],
   "metadata": {
    "collapsed": false,
    "ExecuteTime": {
     "end_time": "2024-09-10T03:54:12.471598Z",
     "start_time": "2024-09-10T03:54:12.462285Z"
    }
   }
  },
  {
   "cell_type": "code",
   "execution_count": 70,
   "metadata": {
    "collapsed": false,
    "ExecuteTime": {
     "end_time": "2024-09-10T03:54:12.496151Z",
     "start_time": "2024-09-10T03:54:12.465884Z"
    }
   },
   "outputs": [
    {
     "name": "stdout",
     "output_type": "stream",
     "text": [
      "AzureInferenceClient initialized\n"
     ]
    }
   ],
   "source": [
    "client = AzureInferenceClient(model=models[0],\n",
    "        temperature=0.7,\n",
    "        max_tokens=4096,\n",
    "        top_p=1)"
   ]
  },
  {
   "cell_type": "code",
   "execution_count": 71,
   "metadata": {
    "collapsed": false,
    "ExecuteTime": {
     "end_time": "2024-09-10T03:54:12.496845Z",
     "start_time": "2024-09-10T03:54:12.479768Z"
    }
   },
   "outputs": [],
   "source": [
    "prompt0 = \"\"\"There is an academic puzzle for you. I will give you a list of references. In subject Vaccine Supply Chains, a survey paper existing with these references. You will give me a guess of the title of the survey paper. Here are the references, each preceded by word ARTICLE and a number:\n",
    "ARTICLE 1: Lee, B.Y., Assi, T.M., Rookkapan, K., Connor, D.L., Rajgopal, J., Sornsrivichai, V., Brown, S.T., Welling, J.S., Norman, B.A., Chen, S.I., et al., 2011. Replacing the measles ten-dose vaccine presentation with the single-dose presentation in thailand. Vaccine 29, 21, 3811–3817. \n",
    "ARTICLE 2:  Lee, B.Y., Cakouros, B.E., Assi, T.M., Connor, D.L., Welling, J., Kone, S., Djibo, A., Wateska, A.R., Pierre, L., Brown, S.T., 2012. The impact of making vaccines thermostable in niger’s vaccine supply chain. Vaccine 30, 38, 5637–5643. \n",
    "ARTICLE 3: Sun, H., Toyasaki, F., Falagara Sigala, I., 2023. Incentivizing at-risk production capacity building for covid-19 vaccines. Production and Operations Management 32, 5, 1550–1566. \n",
    "ARTICLE 4: Kis, Z., Kontoravdi, C., Shattock, R., Shah, N., 2020. Resources, production scales and time required for producing rna vaccines for the global pandemic demand. Vaccines 9, 1, 3. \n",
    "ARTICLE 5: Hovav, S., Tsadikovich, D., 2015. A network flow model for inventory management and distribution of influenza vaccines through a healthcare supply chain. Operations Research for Health Care 5, 49–62. \n",
    "ARTICLE 6: Demirci, E.Z., Erkip, N.K., 2020. Designing intervention scheme for vaccine market: a bilevel programming approach. Flexible Services and Manufacturing Journal 32, 2, 453–485. \n",
    "ARTICLE 7: Lin, Q., Zhao, Q., Lev, B., 2020. Cold chain transportation decision in the vaccine supply chain. European Journal of Operational Research 283, 1, 182–195. \n",
    "ARTICLE 8: Tavana, M., Govindan, K., Nasr, A.K., Heidary, M.S., Mina, H., 2021. A mathematical programming approach for equitable covid-19 vaccine distribution in developing countries. Annals of Operations Research \n",
    "ARTICLE 9: Goodarzian, F., Navaei, A., Ehsani, B., Ghasemi, P., Mu˜ nuzuri, J., 2022. Designing an integrated responsive-green-cold vaccine supply chain network using internet-of-things: artificial intelligence-based solutions. Annals of Operations Research \n",
    "ARTICLE 10: Dastgoshade, S., Shafiee, M., Klibi, W., Shishebori, D., 2022. Social equity-based distribution networks design for the covid19 vaccine. International Journal of Production Economics 250, 108684. Special Issue celebrating Volume 250 of the International Journal of Production Economics. \n",
    "ARTICLE 11: Rahman, H.F., Chakrabortty, R.K., Paul, S.K., Elsawah, S., 2023. Optimising vaccines supply chains to mitigate the covid-19 pandemic. International Journal of Systems Science: Operations & Logistics 10, 1, 2122757. \n",
    "ARTICLE 12: Mak, H.Y., Dai, T., Tang, C.S., 2022. Managing two-dose covid-19 vaccine rollouts with limited supply: Operations strategies for distributing time-sensitive resources. Production and operations management 31, 12, 4424–4442. \n",
    "ARTICLE 13: Basciftci, B., Yu, X., Shen, S., 2023. Resource distribution under spatiotemporal uncertainty of disease spread: Stochastic versus robust approaches. Computers & Operations Research 149, 106028.\n",
    "ARTICLE 14: Mofrad, M.H., Garcia, G.G.P., Maillart, L.M., Norman, B.A., Rajgopal, J., 2016. Customizing immunization clinic operations to minimize open vial waste. Socio-Economic Planning Sciences 54, 1–17. \n",
    "ARTICLE 15: Lim, J., Claypool, E., Norman, B.A., Rajgopal, J., 2016. Coverage models to determine outreach vaccination center locations in low and middle income countries. Operations research for health care 9, 40–48. \n",
    "ARTICLE 16: Kayvanfar, V., Husseini, S.M., Karimi, B., Sajadieh, M.S., 2017. Bi-objective intelligent water drops algorithm to a practical multi-echelon supply chain optimization problem. Journal of Manufacturing Systems 44, 93–114. \n",
    "ARTICLE 17: Qi, Y., Liao, K., Liu, T., Zhang, Y., 2022. Originating multiple-objective portfolio selection by counter-covid measures and analytically instigating robust optimization by mean-parameterized nondominated paths. Operations Research Perspectives 9, 100252. \n",
    "ARTICLE 18: Ng, C., Cheng, T., Tsadikovich, D., Levner, E., Elalouf, A., Hovav, S., 2018. A multi-criterion approach to optimal vaccination planning: Method and solution. Computers & Industrial Engineering 126, 637–649. \n",
    "ARTICLE 19: Zhang, C., Li, Y., Cao, J., Wen, X., 2022. On the mass covid-19 vaccination scheduling problem. Computers & Operations Research 141, 105704\n",
    "ARTICLE 20: Fadaki, M., Abareshi, A., Far, S.M., Lee, P.T.W., 2022. Multi-period vaccine allocation model in a pandemic: A case study of covid-19 in australia. Transportation Research Part E: Logistics and Transportation Review 161, 102689.\n",
    "\n",
    "The output should be in several lines, and the content in the last one is your answer\n",
    "(the title that you guess).\n",
    "Only one guess is required. The title should start with 'Title:'.\n",
    "\n",
    "\"\"\"\n",
    "\n"
   ]
  },
  {
   "cell_type": "code",
   "execution_count": 72,
   "metadata": {
    "collapsed": false,
    "ExecuteTime": {
     "end_time": "2024-09-10T03:54:12.497473Z",
     "start_time": "2024-09-10T03:54:12.486818Z"
    }
   },
   "outputs": [],
   "source": [
    "prompt1 = \"\"\"Can you guess the outline of this paper? Just generate a list of first-level headings.\n",
    "About 6 first-level headings are good! Just output the first-level headings, do\n",
    "not generate any other content.\n",
    "No item number is required, each first-level heading begins with '*'.\"\"\"\n"
   ]
  },
  {
   "cell_type": "code",
   "execution_count": 73,
   "metadata": {
    "collapsed": false,
    "ExecuteTime": {
     "end_time": "2024-09-10T03:54:12.498775Z",
     "start_time": "2024-09-10T03:54:12.494722Z"
    }
   },
   "outputs": [],
   "source": [
    "prompt2 = \"\"\"\n",
    "You are an academic paper writing assistant in the subject Logistics and Supply Chain Management.\n",
    "I am writing a survey paper titled with A Systematic Review of Vaccine Supply Chain Optimization: Models, Methods, and Applications..\n",
    "Here is my outline : \n",
    "\n",
    " Introduction\\n* Background and Context\\n* Literature Review Methodology\\n* Vaccine Supply Chain Design and Optimization\\n* Vaccine Distribution and Allocation Strategies\\n* Inventory Management and Production Planning in Vaccine Supply Chains\\n* Emerging Trends and Technologies in Vaccine Supply Chain Management\\n* Case Studies and Applications of Vaccine Supply Chain Optimization\\n* Future Research Directions and Conclusion\n",
    "\n",
    "Can you write an abstract for me upon the basis of the provided references?\n",
    "You may write only 1 paragraph with about 200-500 words, do not include more\n",
    "detailed headings, or any lists.\n",
    "You should focus on the content of the abstract, which should be limited to the context available in the references, do not repeat the word “abstract” or include any other content. \n",
    "\"\"\"\n"
   ]
  },
  {
   "cell_type": "code",
   "execution_count": 74,
   "metadata": {
    "collapsed": false,
    "ExecuteTime": {
     "end_time": "2024-09-10T03:54:12.508643Z",
     "start_time": "2024-09-10T03:54:12.501316Z"
    }
   },
   "outputs": [],
   "source": [
    "prompt3=\"\"\"\n",
    "Can you help me choose from the provided references the ones  that might be useful when I write this chapter the section 'Introduction\\n* Background and Context'?\n",
    "The output should be in several lines. References that you think may be useful should be on one line each, beginning with '*'.\n",
    "Please retain the square bracketed numbers (like [1], [20]) I give for each reference.\n",
    "\"\"\"\n"
   ]
  },
  {
   "cell_type": "code",
   "execution_count": 75,
   "metadata": {
    "collapsed": false,
    "ExecuteTime": {
     "end_time": "2024-09-10T03:55:36.662143Z",
     "start_time": "2024-09-10T03:54:12.508793Z"
    }
   },
   "outputs": [
    {
     "name": "stdout",
     "output_type": "stream",
     "text": [
      "Analyzing the references provided, I notice that they all relate to the topic of vaccine supply chains, covering various aspects such as distribution, allocation, optimization, and management. The articles span a range of methodologies, including mathematical programming, stochastic modeling, and simulation, and they address different types of vaccines and diseases, including COVID-19, influenza, and measles.\n",
      "\n",
      "Many of the articles focus on the challenges of vaccine distribution, particularly in low- and middle-income countries, and they propose innovative solutions to improve vaccine accessibility, equity, and efficiency. Some articles also explore the impact of policy decisions, such as vaccination schedules and allocation strategies, on public health outcomes.\n",
      "\n",
      "Given the diversity of topics and methodologies represented in the references, it is likely that the survey paper will provide a comprehensive overview of the current state of research in vaccine supply chains, highlighting recent advances, challenges, and future directions.\n",
      "\n",
      "Title: \"Advances in Vaccine Supply Chain Management: Modeling, Optimization, and Policy Insights\"\n",
      "* Introduction\n",
      "* Vaccine Supply Chain Challenges and Opportunities\n",
      "* Methodological Advances in Vaccine Supply Chain Modeling\n",
      "* Optimization and Decision-Making in Vaccine Distribution\n",
      "* Policy Insights and Implementation Strategies\n",
      "* Future Directions and Emerging Trends in Vaccine Supply Chain Management\n",
      "Vaccine supply chain optimization has become a critical area of research in recent years, particularly in the wake of the COVID-19 pandemic, which has highlighted the need for efficient and effective vaccine distribution and allocation strategies. This systematic review aims to provide a comprehensive overview of the current state of research in vaccine supply chain optimization, covering models, methods, and applications. The review spans a range of topics, including vaccine supply chain design and optimization, distribution and allocation strategies, inventory management and production planning, and emerging trends and technologies in vaccine supply chain management. The analysis of the existing literature reveals a growing interest in using mathematical programming, stochastic modeling, and simulation to address the complex challenges of vaccine supply chain management. The review also highlights the importance of considering multiple objectives, such as minimizing costs, maximizing vaccine availability, and ensuring equity in vaccine distribution. Furthermore, the review identifies a number of emerging trends and technologies, including the use of blockchain, artificial intelligence, and the Internet of Things, which have the potential to transform vaccine supply chain management. The review concludes by identifying future research directions and highlighting the need for more practical applications and case studies of vaccine supply chain optimization. Overall, this review aims to provide a comprehensive and up-to-date overview of the current state of research in vaccine supply chain optimization, and to identify opportunities for future research and practice.\n",
      "Based on the provided references, I recommend the following references for the section \"Introduction * Background and Context\":\n",
      "\n",
      "* ARTICLE 1: Lee, B.Y., Assi, T.M., Rookkapan, K., Connor, D.L., Rajgopal, J., Sornsrivichai, V., Brown, S.T., Welling, J.S., Norman, B.A., Chen, S.I., et al., 2011. Replacing the measles ten-dose vaccine presentation with the single-dose presentation in thailand. Vaccine 29, 21, 3811–3817. [1]\n",
      "* ARTICLE 2: Lee, B.Y., Cakouros, B.E., Assi, T.M., Connor, D.L., Welling, J., Kone, S., Djibo, A., Wateska, A.R., Pierre, L., Brown, S.T., 2012. The impact of making vaccines thermostable in niger’s vaccine supply chain. Vaccine 30, 38, 5637–5643. [2]\n",
      "* ARTICLE 4: Kis, Z., Kontoravdi, C., Shattock, R., Shah, N., 2020. Resources, production scales and time required for producing rna vaccines for the global pandemic demand. Vaccines 9, 1, 3. [4]\n",
      "* ARTICLE 20: Fadaki, M., Abareshi, A., Far, S.M., Lee, P.T.W., 2022. Multi-period vaccine allocation model in a pandemic: A case study of covid-19 in australia. Transportation Research Part E: Logistics and Transportation Review 161, 102689. [20]\n",
      "\n",
      "These references provide background information on vaccine supply chains, vaccine distribution, and the impact of vaccines on public health, which can be useful for setting the context for the chapter.\n"
     ]
    }
   ],
   "source": [
    "prompt_sequence = [prompt0, prompt1, prompt2, prompt3]\n",
    "\n",
    "responses = []\n",
    "for prompt in prompt_sequence:\n",
    "    client.append_user_message(prompt)\n",
    "    response = client.complete(\n",
    "        messages=client.message_chain\n",
    "    )\n",
    "    print(response)\n",
    "    responses.append(response)\n",
    "\n"
   ]
  },
  {
   "cell_type": "code",
   "execution_count": 78,
   "outputs": [],
   "source": [
    "prompt4=\"\"\"You are an academic paper writing assistant in the subject Logistics and Supply Chain Managemeent.\n",
    "I am writing a survey paper titled with Advances in Vaccine Supply Chain Management: Modeling, Optimization, and Policy Insights .\n",
    "Here is my outline : Vaccine supply chain optimization has become a critical area of research in recent years, particularly in the wake of the COVID-19 pandemic, which has highlighted the need for efficient and effective vaccine distribution and allocation strategies. This systematic review aims to provide a comprehensive overview of the current state of research in vaccine supply chain optimization, covering models, methods, and applications. The review spans a range of topics, including vaccine supply chain design and optimization, distribution and allocation strategies, inventory management and production planning, and emerging trends and technologies in vaccine supply chain management. The analysis of the existing literature reveals a growing interest in using mathematical programming, stochastic modeling, and simulation to address the complex challenges of vaccine supply chain management. The review also highlights the importance of considering multiple objectives, such as minimizing costs, maximizing vaccine availability, and ensuring equity in vaccine distribution. Furthermore, the review identifies a number of emerging trends and technologies, including the use of blockchain, artificial intelligence, and the Internet of Things, which have the potential to transform vaccine supply chain management. The review concludes by identifying future research directions and highlighting the need for more practical applications and case studies of vaccine supply chain optimization. Overall, this review aims to provide a comprehensive and up-to-date overview of the current state of research in vaccine supply chain optimization, and to identify opportunities for future research and practice.\n",
    "\n",
    "I already gave you a list of references. Can you help me choose from these references\n",
    "that might be useful when I write this chapter the section Vaccine Supply Chain Challenges and Opportunities?\n",
    "The output should be in several lines. References that you think may be useful\n",
    "should be on one line each, beginning with “*”.\n",
    "Please retain the square bracketed numbers (like [1], [20]) I give for each reference.\"\"\""
   ],
   "metadata": {
    "collapsed": false,
    "ExecuteTime": {
     "end_time": "2024-09-10T03:58:17.774072Z",
     "start_time": "2024-09-10T03:58:17.770313Z"
    }
   }
  },
  {
   "cell_type": "code",
   "execution_count": 79,
   "outputs": [
    {
     "name": "stdout",
     "output_type": "stream",
     "text": [
      "Based on the provided references, I recommend the following references for the section \"Vaccine Supply Chain Challenges and Opportunities\":\n",
      "\n",
      "* ARTICLE 3: Sun, H., Toyasaki, F., Falagara Sigala, I., 2023. Incentivizing at-risk production capacity building for covid-19 vaccines. Production and Operations Management 32, 5, 1550–1566. [3]\n",
      "* ARTICLE 5: Hovav, S., Tsadikovich, D., 2015. A network flow model for inventory management and distribution of influenza vaccines through a healthcare supply chain. Operations Research for Health Care 5, 49–62. [5]\n",
      "* ARTICLE 7: Lin, Q., Zhao, Q., Lev, B., 2020. Cold chain transportation decision in the vaccine supply chain. European Journal of Operational Research 283, 1, 182–195. [7]\n",
      "* ARTICLE 9: Goodarzian, F., Navaei, A., Ehsani, B., Ghasemi, P., Mu˜ nuzuri, J., 2022. Designing an integrated responsive-green-cold vaccine supply chain network using internet-of-things: artificial intelligence-based solutions. Annals of Operations Research [9]\n",
      "* ARTICLE 11: Rahman, H.F., Chakrabortty, R.K., Paul, S.K., Elsawah, S., 2023. Optimising vaccines supply chains to mitigate the covid-19 pandemic. International Journal of Systems Science: Operations & Logistics 10, 1, 2122757. [11]\n",
      "* ARTICLE 12: Mak, H.Y., Dai, T., Tang, C.S., 2022. Managing two-dose covid-19 vaccine rollouts with limited supply: Operations strategies for distributing time-sensitive resources. Production and operations management 31, 12, 4424–4442. [12]\n",
      "\n",
      "These references discuss various challenges and opportunities in vaccine supply chain management, including production capacity building, inventory management, cold chain transportation, and the use of emerging technologies such as the Internet of Things and artificial intelligence.\n"
     ]
    }
   ],
   "source": [
    "client.append_user_message(prompt4)\n",
    "response = client.complete(\n",
    "    messages=client.message_chain\n",
    ")\n",
    "print(response)"
   ],
   "metadata": {
    "collapsed": false,
    "ExecuteTime": {
     "end_time": "2024-09-10T03:58:56.239878Z",
     "start_time": "2024-09-10T03:58:21.740962Z"
    }
   }
  },
  {
   "cell_type": "code",
   "execution_count": 80,
   "outputs": [],
   "source": [
    "# save all responses to a .md file\n",
    "with open(f\"model_{models[0]}.md\", \"w\") as f:\n",
    "    for i, response in enumerate(responses):\n",
    "        f.write(f\"Response {i}\\n\")\n",
    "        f.write(response)\n",
    "        f.write(\"\\n\")"
   ],
   "metadata": {
    "collapsed": false,
    "ExecuteTime": {
     "end_time": "2024-09-10T03:59:02.009355Z",
     "start_time": "2024-09-10T03:59:02.002954Z"
    }
   }
  },
  {
   "cell_type": "code",
   "execution_count": 77,
   "outputs": [],
   "source": [
    "prompt5 = \"\"\"\n",
    "Can you help me enumerate the techniques and methods that are used in the papers that might be useful when I write the content for the section 'Supply chain design'?\n",
    "\"\"\"\n"
   ],
   "metadata": {
    "collapsed": false,
    "ExecuteTime": {
     "end_time": "2024-09-10T03:55:36.673976Z",
     "start_time": "2024-09-10T03:55:36.668293Z"
    }
   }
  }
 ],
 "metadata": {
  "kernelspec": {
   "display_name": "Python 3 (ipykernel)",
   "language": "python",
   "name": "python3"
  },
  "language_info": {
   "codemirror_mode": {
    "name": "ipython",
    "version": 3
   },
   "file_extension": ".py",
   "mimetype": "text/x-python",
   "name": "python",
   "nbconvert_exporter": "python",
   "pygments_lexer": "ipython3",
   "version": "3.12.0"
  }
 },
 "nbformat": 4,
 "nbformat_minor": 4
}
